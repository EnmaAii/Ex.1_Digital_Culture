{
  "cells": [
    {
      "cell_type": "markdown",
      "metadata": {
        "id": "view-in-github",
        "colab_type": "text"
      },
      "source": [
        "<a href=\"https://colab.research.google.com/github/EnmaAii/Ex.1_Digital_Culture/blob/main/%D0%9A%D0%BE%D0%BF%D0%B8%D1%8F_%D0%B1%D0%BB%D0%BE%D0%BA%D0%BD%D0%BE%D1%82%D0%B0_%22Ex_1_Digital_Culture%22.ipynb\" target=\"_parent\"><img src=\"https://colab.research.google.com/assets/colab-badge.svg\" alt=\"Open In Colab\"/></a>"
      ]
    },
    {
      "cell_type": "markdown",
      "metadata": {
        "id": "Sim4T7lfqNal"
      },
      "source": [
        "\n",
        "\n",
        "1.   **Загрузка датасета и присвоение номера категории**\n",
        "\n",
        "\n"
      ]
    },
    {
      "cell_type": "code",
      "execution_count": null,
      "metadata": {
        "id": "7KSuPGnCqBM_"
      },
      "outputs": [],
      "source": [
        "from google.colab import files\n",
        "files.upload()"
      ]
    },
    {
      "cell_type": "code",
      "execution_count": null,
      "metadata": {
        "colab": {
          "base_uri": "https://localhost:8080/",
          "height": 206
        },
        "id": "rZFLU3qJrI8w",
        "outputId": "7cdfb70c-c3eb-4461-8a3d-10969a1d5754"
      },
      "outputs": [
        {
          "output_type": "execute_result",
          "data": {
            "text/plain": [
              "   category                                            content\n",
              "0        IT   webify helps insurance carriers stretch legac...\n",
              "1  business   update 1 thursday #39 s commodities roundup ,...\n",
              "2  business   california regulator is suing four insurers a...\n",
              "3     crime   mexico fta paves way for asian trade agreemen...\n",
              "4     sport   t amp t , costa rica through , angus eve scor..."
            ],
            "text/html": [
              "\n",
              "  <div id=\"df-47c515a4-fa70-42fd-b32a-6006ad864585\" class=\"colab-df-container\">\n",
              "    <div>\n",
              "<style scoped>\n",
              "    .dataframe tbody tr th:only-of-type {\n",
              "        vertical-align: middle;\n",
              "    }\n",
              "\n",
              "    .dataframe tbody tr th {\n",
              "        vertical-align: top;\n",
              "    }\n",
              "\n",
              "    .dataframe thead th {\n",
              "        text-align: right;\n",
              "    }\n",
              "</style>\n",
              "<table border=\"1\" class=\"dataframe\">\n",
              "  <thead>\n",
              "    <tr style=\"text-align: right;\">\n",
              "      <th></th>\n",
              "      <th>category</th>\n",
              "      <th>content</th>\n",
              "    </tr>\n",
              "  </thead>\n",
              "  <tbody>\n",
              "    <tr>\n",
              "      <th>0</th>\n",
              "      <td>IT</td>\n",
              "      <td>webify helps insurance carriers stretch legac...</td>\n",
              "    </tr>\n",
              "    <tr>\n",
              "      <th>1</th>\n",
              "      <td>business</td>\n",
              "      <td>update 1 thursday #39 s commodities roundup ,...</td>\n",
              "    </tr>\n",
              "    <tr>\n",
              "      <th>2</th>\n",
              "      <td>business</td>\n",
              "      <td>california regulator is suing four insurers a...</td>\n",
              "    </tr>\n",
              "    <tr>\n",
              "      <th>3</th>\n",
              "      <td>crime</td>\n",
              "      <td>mexico fta paves way for asian trade agreemen...</td>\n",
              "    </tr>\n",
              "    <tr>\n",
              "      <th>4</th>\n",
              "      <td>sport</td>\n",
              "      <td>t amp t , costa rica through , angus eve scor...</td>\n",
              "    </tr>\n",
              "  </tbody>\n",
              "</table>\n",
              "</div>\n",
              "    <div class=\"colab-df-buttons\">\n",
              "\n",
              "  <div class=\"colab-df-container\">\n",
              "    <button class=\"colab-df-convert\" onclick=\"convertToInteractive('df-47c515a4-fa70-42fd-b32a-6006ad864585')\"\n",
              "            title=\"Convert this dataframe to an interactive table.\"\n",
              "            style=\"display:none;\">\n",
              "\n",
              "  <svg xmlns=\"http://www.w3.org/2000/svg\" height=\"24px\" viewBox=\"0 -960 960 960\">\n",
              "    <path d=\"M120-120v-720h720v720H120Zm60-500h600v-160H180v160Zm220 220h160v-160H400v160Zm0 220h160v-160H400v160ZM180-400h160v-160H180v160Zm440 0h160v-160H620v160ZM180-180h160v-160H180v160Zm440 0h160v-160H620v160Z\"/>\n",
              "  </svg>\n",
              "    </button>\n",
              "\n",
              "  <style>\n",
              "    .colab-df-container {\n",
              "      display:flex;\n",
              "      gap: 12px;\n",
              "    }\n",
              "\n",
              "    .colab-df-convert {\n",
              "      background-color: #E8F0FE;\n",
              "      border: none;\n",
              "      border-radius: 50%;\n",
              "      cursor: pointer;\n",
              "      display: none;\n",
              "      fill: #1967D2;\n",
              "      height: 32px;\n",
              "      padding: 0 0 0 0;\n",
              "      width: 32px;\n",
              "    }\n",
              "\n",
              "    .colab-df-convert:hover {\n",
              "      background-color: #E2EBFA;\n",
              "      box-shadow: 0px 1px 2px rgba(60, 64, 67, 0.3), 0px 1px 3px 1px rgba(60, 64, 67, 0.15);\n",
              "      fill: #174EA6;\n",
              "    }\n",
              "\n",
              "    .colab-df-buttons div {\n",
              "      margin-bottom: 4px;\n",
              "    }\n",
              "\n",
              "    [theme=dark] .colab-df-convert {\n",
              "      background-color: #3B4455;\n",
              "      fill: #D2E3FC;\n",
              "    }\n",
              "\n",
              "    [theme=dark] .colab-df-convert:hover {\n",
              "      background-color: #434B5C;\n",
              "      box-shadow: 0px 1px 3px 1px rgba(0, 0, 0, 0.15);\n",
              "      filter: drop-shadow(0px 1px 2px rgba(0, 0, 0, 0.3));\n",
              "      fill: #FFFFFF;\n",
              "    }\n",
              "  </style>\n",
              "\n",
              "    <script>\n",
              "      const buttonEl =\n",
              "        document.querySelector('#df-47c515a4-fa70-42fd-b32a-6006ad864585 button.colab-df-convert');\n",
              "      buttonEl.style.display =\n",
              "        google.colab.kernel.accessAllowed ? 'block' : 'none';\n",
              "\n",
              "      async function convertToInteractive(key) {\n",
              "        const element = document.querySelector('#df-47c515a4-fa70-42fd-b32a-6006ad864585');\n",
              "        const dataTable =\n",
              "          await google.colab.kernel.invokeFunction('convertToInteractive',\n",
              "                                                    [key], {});\n",
              "        if (!dataTable) return;\n",
              "\n",
              "        const docLinkHtml = 'Like what you see? Visit the ' +\n",
              "          '<a target=\"_blank\" href=https://colab.research.google.com/notebooks/data_table.ipynb>data table notebook</a>'\n",
              "          + ' to learn more about interactive tables.';\n",
              "        element.innerHTML = '';\n",
              "        dataTable['output_type'] = 'display_data';\n",
              "        await google.colab.output.renderOutput(dataTable, element);\n",
              "        const docLink = document.createElement('div');\n",
              "        docLink.innerHTML = docLinkHtml;\n",
              "        element.appendChild(docLink);\n",
              "      }\n",
              "    </script>\n",
              "  </div>\n",
              "\n",
              "\n",
              "<div id=\"df-e8303c00-396c-4a16-96ce-5daf1997bf79\">\n",
              "  <button class=\"colab-df-quickchart\" onclick=\"quickchart('df-e8303c00-396c-4a16-96ce-5daf1997bf79')\"\n",
              "            title=\"Suggest charts\"\n",
              "            style=\"display:none;\">\n",
              "\n",
              "<svg xmlns=\"http://www.w3.org/2000/svg\" height=\"24px\"viewBox=\"0 0 24 24\"\n",
              "     width=\"24px\">\n",
              "    <g>\n",
              "        <path d=\"M19 3H5c-1.1 0-2 .9-2 2v14c0 1.1.9 2 2 2h14c1.1 0 2-.9 2-2V5c0-1.1-.9-2-2-2zM9 17H7v-7h2v7zm4 0h-2V7h2v10zm4 0h-2v-4h2v4z\"/>\n",
              "    </g>\n",
              "</svg>\n",
              "  </button>\n",
              "\n",
              "<style>\n",
              "  .colab-df-quickchart {\n",
              "      --bg-color: #E8F0FE;\n",
              "      --fill-color: #1967D2;\n",
              "      --hover-bg-color: #E2EBFA;\n",
              "      --hover-fill-color: #174EA6;\n",
              "      --disabled-fill-color: #AAA;\n",
              "      --disabled-bg-color: #DDD;\n",
              "  }\n",
              "\n",
              "  [theme=dark] .colab-df-quickchart {\n",
              "      --bg-color: #3B4455;\n",
              "      --fill-color: #D2E3FC;\n",
              "      --hover-bg-color: #434B5C;\n",
              "      --hover-fill-color: #FFFFFF;\n",
              "      --disabled-bg-color: #3B4455;\n",
              "      --disabled-fill-color: #666;\n",
              "  }\n",
              "\n",
              "  .colab-df-quickchart {\n",
              "    background-color: var(--bg-color);\n",
              "    border: none;\n",
              "    border-radius: 50%;\n",
              "    cursor: pointer;\n",
              "    display: none;\n",
              "    fill: var(--fill-color);\n",
              "    height: 32px;\n",
              "    padding: 0;\n",
              "    width: 32px;\n",
              "  }\n",
              "\n",
              "  .colab-df-quickchart:hover {\n",
              "    background-color: var(--hover-bg-color);\n",
              "    box-shadow: 0 1px 2px rgba(60, 64, 67, 0.3), 0 1px 3px 1px rgba(60, 64, 67, 0.15);\n",
              "    fill: var(--button-hover-fill-color);\n",
              "  }\n",
              "\n",
              "  .colab-df-quickchart-complete:disabled,\n",
              "  .colab-df-quickchart-complete:disabled:hover {\n",
              "    background-color: var(--disabled-bg-color);\n",
              "    fill: var(--disabled-fill-color);\n",
              "    box-shadow: none;\n",
              "  }\n",
              "\n",
              "  .colab-df-spinner {\n",
              "    border: 2px solid var(--fill-color);\n",
              "    border-color: transparent;\n",
              "    border-bottom-color: var(--fill-color);\n",
              "    animation:\n",
              "      spin 1s steps(1) infinite;\n",
              "  }\n",
              "\n",
              "  @keyframes spin {\n",
              "    0% {\n",
              "      border-color: transparent;\n",
              "      border-bottom-color: var(--fill-color);\n",
              "      border-left-color: var(--fill-color);\n",
              "    }\n",
              "    20% {\n",
              "      border-color: transparent;\n",
              "      border-left-color: var(--fill-color);\n",
              "      border-top-color: var(--fill-color);\n",
              "    }\n",
              "    30% {\n",
              "      border-color: transparent;\n",
              "      border-left-color: var(--fill-color);\n",
              "      border-top-color: var(--fill-color);\n",
              "      border-right-color: var(--fill-color);\n",
              "    }\n",
              "    40% {\n",
              "      border-color: transparent;\n",
              "      border-right-color: var(--fill-color);\n",
              "      border-top-color: var(--fill-color);\n",
              "    }\n",
              "    60% {\n",
              "      border-color: transparent;\n",
              "      border-right-color: var(--fill-color);\n",
              "    }\n",
              "    80% {\n",
              "      border-color: transparent;\n",
              "      border-right-color: var(--fill-color);\n",
              "      border-bottom-color: var(--fill-color);\n",
              "    }\n",
              "    90% {\n",
              "      border-color: transparent;\n",
              "      border-bottom-color: var(--fill-color);\n",
              "    }\n",
              "  }\n",
              "</style>\n",
              "\n",
              "  <script>\n",
              "    async function quickchart(key) {\n",
              "      const quickchartButtonEl =\n",
              "        document.querySelector('#' + key + ' button');\n",
              "      quickchartButtonEl.disabled = true;  // To prevent multiple clicks.\n",
              "      quickchartButtonEl.classList.add('colab-df-spinner');\n",
              "      try {\n",
              "        const charts = await google.colab.kernel.invokeFunction(\n",
              "            'suggestCharts', [key], {});\n",
              "      } catch (error) {\n",
              "        console.error('Error during call to suggestCharts:', error);\n",
              "      }\n",
              "      quickchartButtonEl.classList.remove('colab-df-spinner');\n",
              "      quickchartButtonEl.classList.add('colab-df-quickchart-complete');\n",
              "    }\n",
              "    (() => {\n",
              "      let quickchartButtonEl =\n",
              "        document.querySelector('#df-e8303c00-396c-4a16-96ce-5daf1997bf79 button');\n",
              "      quickchartButtonEl.style.display =\n",
              "        google.colab.kernel.accessAllowed ? 'block' : 'none';\n",
              "    })();\n",
              "  </script>\n",
              "</div>\n",
              "    </div>\n",
              "  </div>\n"
            ],
            "application/vnd.google.colaboratory.intrinsic+json": {
              "type": "dataframe",
              "variable_name": "data"
            }
          },
          "metadata": {},
          "execution_count": 13
        }
      ],
      "source": [
        "import pandas as pd\n",
        "data = pd.read_csv(\"ag_news.csv\", sep=';')\n",
        "data.head()"
      ]
    },
    {
      "cell_type": "markdown",
      "metadata": {
        "id": "aXH94yLEtwrA"
      },
      "source": [
        "\n",
        "\n",
        "2.   **Обработка данных**\n",
        "\n",
        "\n",
        "\n",
        "\n"
      ]
    },
    {
      "cell_type": "code",
      "execution_count": null,
      "metadata": {
        "colab": {
          "base_uri": "https://localhost:8080/"
        },
        "id": "ycMbXooduSU0",
        "outputId": "2a26bf73-ec97-4fb6-c5d8-ffaad1e0110e"
      },
      "outputs": [
        {
          "output_type": "execute_result",
          "data": {
            "text/plain": [
              "[]"
            ]
          },
          "metadata": {},
          "execution_count": 14
        }
      ],
      "source": [
        "data.columns[data.isna().any()].tolist() #проверить наличие NaN в DataFrame, если массив пуст, то и пропущенных данных нет"
      ]
    },
    {
      "cell_type": "code",
      "execution_count": null,
      "metadata": {
        "id": "bZJujsnVuTlJ",
        "colab": {
          "base_uri": "https://localhost:8080/",
          "height": 206
        },
        "outputId": "3722c34d-9c8b-4419-e422-297792d32330"
      },
      "outputs": [
        {
          "output_type": "execute_result",
          "data": {
            "text/plain": [
              "   category                                            content\n",
              "0         0   webify helps insurance carriers stretch legac...\n",
              "1         1   update 1 thursday #39 s commodities roundup ,...\n",
              "2         1   california regulator is suing four insurers a...\n",
              "3         2   mexico fta paves way for asian trade agreemen...\n",
              "4         3   t amp t , costa rica through , angus eve scor..."
            ],
            "text/html": [
              "\n",
              "  <div id=\"df-c1d4530f-45df-4b01-b031-9e1781780825\" class=\"colab-df-container\">\n",
              "    <div>\n",
              "<style scoped>\n",
              "    .dataframe tbody tr th:only-of-type {\n",
              "        vertical-align: middle;\n",
              "    }\n",
              "\n",
              "    .dataframe tbody tr th {\n",
              "        vertical-align: top;\n",
              "    }\n",
              "\n",
              "    .dataframe thead th {\n",
              "        text-align: right;\n",
              "    }\n",
              "</style>\n",
              "<table border=\"1\" class=\"dataframe\">\n",
              "  <thead>\n",
              "    <tr style=\"text-align: right;\">\n",
              "      <th></th>\n",
              "      <th>category</th>\n",
              "      <th>content</th>\n",
              "    </tr>\n",
              "  </thead>\n",
              "  <tbody>\n",
              "    <tr>\n",
              "      <th>0</th>\n",
              "      <td>0</td>\n",
              "      <td>webify helps insurance carriers stretch legac...</td>\n",
              "    </tr>\n",
              "    <tr>\n",
              "      <th>1</th>\n",
              "      <td>1</td>\n",
              "      <td>update 1 thursday #39 s commodities roundup ,...</td>\n",
              "    </tr>\n",
              "    <tr>\n",
              "      <th>2</th>\n",
              "      <td>1</td>\n",
              "      <td>california regulator is suing four insurers a...</td>\n",
              "    </tr>\n",
              "    <tr>\n",
              "      <th>3</th>\n",
              "      <td>2</td>\n",
              "      <td>mexico fta paves way for asian trade agreemen...</td>\n",
              "    </tr>\n",
              "    <tr>\n",
              "      <th>4</th>\n",
              "      <td>3</td>\n",
              "      <td>t amp t , costa rica through , angus eve scor...</td>\n",
              "    </tr>\n",
              "  </tbody>\n",
              "</table>\n",
              "</div>\n",
              "    <div class=\"colab-df-buttons\">\n",
              "\n",
              "  <div class=\"colab-df-container\">\n",
              "    <button class=\"colab-df-convert\" onclick=\"convertToInteractive('df-c1d4530f-45df-4b01-b031-9e1781780825')\"\n",
              "            title=\"Convert this dataframe to an interactive table.\"\n",
              "            style=\"display:none;\">\n",
              "\n",
              "  <svg xmlns=\"http://www.w3.org/2000/svg\" height=\"24px\" viewBox=\"0 -960 960 960\">\n",
              "    <path d=\"M120-120v-720h720v720H120Zm60-500h600v-160H180v160Zm220 220h160v-160H400v160Zm0 220h160v-160H400v160ZM180-400h160v-160H180v160Zm440 0h160v-160H620v160ZM180-180h160v-160H180v160Zm440 0h160v-160H620v160Z\"/>\n",
              "  </svg>\n",
              "    </button>\n",
              "\n",
              "  <style>\n",
              "    .colab-df-container {\n",
              "      display:flex;\n",
              "      gap: 12px;\n",
              "    }\n",
              "\n",
              "    .colab-df-convert {\n",
              "      background-color: #E8F0FE;\n",
              "      border: none;\n",
              "      border-radius: 50%;\n",
              "      cursor: pointer;\n",
              "      display: none;\n",
              "      fill: #1967D2;\n",
              "      height: 32px;\n",
              "      padding: 0 0 0 0;\n",
              "      width: 32px;\n",
              "    }\n",
              "\n",
              "    .colab-df-convert:hover {\n",
              "      background-color: #E2EBFA;\n",
              "      box-shadow: 0px 1px 2px rgba(60, 64, 67, 0.3), 0px 1px 3px 1px rgba(60, 64, 67, 0.15);\n",
              "      fill: #174EA6;\n",
              "    }\n",
              "\n",
              "    .colab-df-buttons div {\n",
              "      margin-bottom: 4px;\n",
              "    }\n",
              "\n",
              "    [theme=dark] .colab-df-convert {\n",
              "      background-color: #3B4455;\n",
              "      fill: #D2E3FC;\n",
              "    }\n",
              "\n",
              "    [theme=dark] .colab-df-convert:hover {\n",
              "      background-color: #434B5C;\n",
              "      box-shadow: 0px 1px 3px 1px rgba(0, 0, 0, 0.15);\n",
              "      filter: drop-shadow(0px 1px 2px rgba(0, 0, 0, 0.3));\n",
              "      fill: #FFFFFF;\n",
              "    }\n",
              "  </style>\n",
              "\n",
              "    <script>\n",
              "      const buttonEl =\n",
              "        document.querySelector('#df-c1d4530f-45df-4b01-b031-9e1781780825 button.colab-df-convert');\n",
              "      buttonEl.style.display =\n",
              "        google.colab.kernel.accessAllowed ? 'block' : 'none';\n",
              "\n",
              "      async function convertToInteractive(key) {\n",
              "        const element = document.querySelector('#df-c1d4530f-45df-4b01-b031-9e1781780825');\n",
              "        const dataTable =\n",
              "          await google.colab.kernel.invokeFunction('convertToInteractive',\n",
              "                                                    [key], {});\n",
              "        if (!dataTable) return;\n",
              "\n",
              "        const docLinkHtml = 'Like what you see? Visit the ' +\n",
              "          '<a target=\"_blank\" href=https://colab.research.google.com/notebooks/data_table.ipynb>data table notebook</a>'\n",
              "          + ' to learn more about interactive tables.';\n",
              "        element.innerHTML = '';\n",
              "        dataTable['output_type'] = 'display_data';\n",
              "        await google.colab.output.renderOutput(dataTable, element);\n",
              "        const docLink = document.createElement('div');\n",
              "        docLink.innerHTML = docLinkHtml;\n",
              "        element.appendChild(docLink);\n",
              "      }\n",
              "    </script>\n",
              "  </div>\n",
              "\n",
              "\n",
              "<div id=\"df-1452ee85-9975-466b-8a54-f7d54ec5e85f\">\n",
              "  <button class=\"colab-df-quickchart\" onclick=\"quickchart('df-1452ee85-9975-466b-8a54-f7d54ec5e85f')\"\n",
              "            title=\"Suggest charts\"\n",
              "            style=\"display:none;\">\n",
              "\n",
              "<svg xmlns=\"http://www.w3.org/2000/svg\" height=\"24px\"viewBox=\"0 0 24 24\"\n",
              "     width=\"24px\">\n",
              "    <g>\n",
              "        <path d=\"M19 3H5c-1.1 0-2 .9-2 2v14c0 1.1.9 2 2 2h14c1.1 0 2-.9 2-2V5c0-1.1-.9-2-2-2zM9 17H7v-7h2v7zm4 0h-2V7h2v10zm4 0h-2v-4h2v4z\"/>\n",
              "    </g>\n",
              "</svg>\n",
              "  </button>\n",
              "\n",
              "<style>\n",
              "  .colab-df-quickchart {\n",
              "      --bg-color: #E8F0FE;\n",
              "      --fill-color: #1967D2;\n",
              "      --hover-bg-color: #E2EBFA;\n",
              "      --hover-fill-color: #174EA6;\n",
              "      --disabled-fill-color: #AAA;\n",
              "      --disabled-bg-color: #DDD;\n",
              "  }\n",
              "\n",
              "  [theme=dark] .colab-df-quickchart {\n",
              "      --bg-color: #3B4455;\n",
              "      --fill-color: #D2E3FC;\n",
              "      --hover-bg-color: #434B5C;\n",
              "      --hover-fill-color: #FFFFFF;\n",
              "      --disabled-bg-color: #3B4455;\n",
              "      --disabled-fill-color: #666;\n",
              "  }\n",
              "\n",
              "  .colab-df-quickchart {\n",
              "    background-color: var(--bg-color);\n",
              "    border: none;\n",
              "    border-radius: 50%;\n",
              "    cursor: pointer;\n",
              "    display: none;\n",
              "    fill: var(--fill-color);\n",
              "    height: 32px;\n",
              "    padding: 0;\n",
              "    width: 32px;\n",
              "  }\n",
              "\n",
              "  .colab-df-quickchart:hover {\n",
              "    background-color: var(--hover-bg-color);\n",
              "    box-shadow: 0 1px 2px rgba(60, 64, 67, 0.3), 0 1px 3px 1px rgba(60, 64, 67, 0.15);\n",
              "    fill: var(--button-hover-fill-color);\n",
              "  }\n",
              "\n",
              "  .colab-df-quickchart-complete:disabled,\n",
              "  .colab-df-quickchart-complete:disabled:hover {\n",
              "    background-color: var(--disabled-bg-color);\n",
              "    fill: var(--disabled-fill-color);\n",
              "    box-shadow: none;\n",
              "  }\n",
              "\n",
              "  .colab-df-spinner {\n",
              "    border: 2px solid var(--fill-color);\n",
              "    border-color: transparent;\n",
              "    border-bottom-color: var(--fill-color);\n",
              "    animation:\n",
              "      spin 1s steps(1) infinite;\n",
              "  }\n",
              "\n",
              "  @keyframes spin {\n",
              "    0% {\n",
              "      border-color: transparent;\n",
              "      border-bottom-color: var(--fill-color);\n",
              "      border-left-color: var(--fill-color);\n",
              "    }\n",
              "    20% {\n",
              "      border-color: transparent;\n",
              "      border-left-color: var(--fill-color);\n",
              "      border-top-color: var(--fill-color);\n",
              "    }\n",
              "    30% {\n",
              "      border-color: transparent;\n",
              "      border-left-color: var(--fill-color);\n",
              "      border-top-color: var(--fill-color);\n",
              "      border-right-color: var(--fill-color);\n",
              "    }\n",
              "    40% {\n",
              "      border-color: transparent;\n",
              "      border-right-color: var(--fill-color);\n",
              "      border-top-color: var(--fill-color);\n",
              "    }\n",
              "    60% {\n",
              "      border-color: transparent;\n",
              "      border-right-color: var(--fill-color);\n",
              "    }\n",
              "    80% {\n",
              "      border-color: transparent;\n",
              "      border-right-color: var(--fill-color);\n",
              "      border-bottom-color: var(--fill-color);\n",
              "    }\n",
              "    90% {\n",
              "      border-color: transparent;\n",
              "      border-bottom-color: var(--fill-color);\n",
              "    }\n",
              "  }\n",
              "</style>\n",
              "\n",
              "  <script>\n",
              "    async function quickchart(key) {\n",
              "      const quickchartButtonEl =\n",
              "        document.querySelector('#' + key + ' button');\n",
              "      quickchartButtonEl.disabled = true;  // To prevent multiple clicks.\n",
              "      quickchartButtonEl.classList.add('colab-df-spinner');\n",
              "      try {\n",
              "        const charts = await google.colab.kernel.invokeFunction(\n",
              "            'suggestCharts', [key], {});\n",
              "      } catch (error) {\n",
              "        console.error('Error during call to suggestCharts:', error);\n",
              "      }\n",
              "      quickchartButtonEl.classList.remove('colab-df-spinner');\n",
              "      quickchartButtonEl.classList.add('colab-df-quickchart-complete');\n",
              "    }\n",
              "    (() => {\n",
              "      let quickchartButtonEl =\n",
              "        document.querySelector('#df-1452ee85-9975-466b-8a54-f7d54ec5e85f button');\n",
              "      quickchartButtonEl.style.display =\n",
              "        google.colab.kernel.accessAllowed ? 'block' : 'none';\n",
              "    })();\n",
              "  </script>\n",
              "</div>\n",
              "    </div>\n",
              "  </div>\n"
            ],
            "application/vnd.google.colaboratory.intrinsic+json": {
              "type": "dataframe",
              "variable_name": "data"
            }
          },
          "metadata": {},
          "execution_count": 15
        }
      ],
      "source": [
        "data[\"category\"] = data[\"category\"].astype('category') # вместо хранения каждого уникального текстового значения, pandas будет хранить уникальные категории и присваивать каждой категории числовой код.\n",
        "data[\"category\"] = data[\"category\"].cat.codes # извлекаем числовые коды, присвоенные каждой переменной\n",
        "data.head()"
      ]
    },
    {
      "cell_type": "code",
      "source": [
        "category_count = data[\"category\"].max() + 1\n",
        "category_count"
      ],
      "metadata": {
        "colab": {
          "base_uri": "https://localhost:8080/"
        },
        "id": "r74KgbvW2guJ",
        "outputId": "ebe4c422-abaa-4959-ddea-6f5a5269bb3f"
      },
      "execution_count": null,
      "outputs": [
        {
          "output_type": "execute_result",
          "data": {
            "text/plain": [
              "4"
            ]
          },
          "metadata": {},
          "execution_count": 16
        }
      ]
    },
    {
      "cell_type": "code",
      "execution_count": null,
      "metadata": {
        "id": "jU4cA9vpviu4"
      },
      "outputs": [],
      "source": [
        "from torchtext.data.utils import get_tokenizer\n",
        "from torchtext.vocab import build_vocab_from_iterator\n",
        "\n",
        "tokenizer = get_tokenizer('basic_english')\n",
        "# get_tokenizer - функция для обработки текста\n",
        "# аргумент \"basic_english\" - это формат обработки (приведение к нижнему регистру, избавление от спецсимволов, ...)\n",
        "# этот же аргумент можно указывать при обработке текстов на других языках!\n",
        "\n",
        "def yield_tokens(data_train):\n",
        "  for text in data_train:\n",
        "    yield tokenizer(text)\n",
        "\n",
        "vocab = build_vocab_from_iterator(yield_tokens(data[\"content\"]), specials=[\"<unk>\"]) # здесь data_train - тренировочные данные\n",
        "vocab.set_default_index(vocab[\"<unk>\"])  # какой индекс нужно вернуть, если слово не найдено в словаре"
      ]
    },
    {
      "cell_type": "code",
      "execution_count": null,
      "metadata": {
        "colab": {
          "base_uri": "https://localhost:8080/"
        },
        "id": "-3qzVRJKvnjo",
        "outputId": "60a31d6c-d1eb-4f29-b3bb-a391188f3759"
      },
      "outputs": [
        {
          "output_type": "execute_result",
          "data": {
            "text/plain": [
              "[2842, 282, 233, 12544, 24104]"
            ]
          },
          "metadata": {},
          "execution_count": 18
        }
      ],
      "source": [
        "vocab(['feel', 'i', 'say', 'hello', 'hi']) # проверка"
      ]
    },
    {
      "cell_type": "markdown",
      "source": [
        "\n",
        "\n",
        "3.   **Создание классов для загрузки данных и разделение данных на тренировочные / тестировочные**\n",
        "\n",
        "\n"
      ],
      "metadata": {
        "id": "VyQZOTlH49RQ"
      }
    },
    {
      "cell_type": "code",
      "execution_count": null,
      "metadata": {
        "id": "JpImL9Y9ciwn"
      },
      "outputs": [],
      "source": [
        "from torch.utils.data import Dataset # для работы с датасетом\n",
        "import torch # для НС и тд\n",
        "\n",
        "class TextDataset(Dataset):\n",
        "    def __init__(self, data_text, y): # конструктор класса\n",
        "        self.data = data_text # сам текст\n",
        "        self.y = y # язык\n",
        "\n",
        "    def __len__(self):   # len(trainset)\n",
        "        return len(self.data)\n",
        "\n",
        "    def __getitem__(self, idx): # data[0]\n",
        "      text = vocab(tokenizer(self.data.iloc[idx]))\n",
        "      return torch.tensor(text), torch.tensor(self.y.iloc[idx], dtype=torch.int64)"
      ]
    },
    {
      "cell_type": "code",
      "execution_count": null,
      "metadata": {
        "id": "xYo0BrmetFVw"
      },
      "outputs": [],
      "source": [
        "y = data[\"category\"]\n",
        "data = data['content']"
      ]
    },
    {
      "cell_type": "code",
      "execution_count": null,
      "metadata": {
        "id": "B4y2kZxrx8Zn"
      },
      "outputs": [],
      "source": [
        "from sklearn.model_selection import train_test_split\n",
        "data_train, data_test, \\\n",
        "  y_train, y_test = train_test_split(data, y, test_size=0.3)"
      ]
    },
    {
      "cell_type": "code",
      "execution_count": null,
      "metadata": {
        "id": "F_IXyzZiyckn"
      },
      "outputs": [],
      "source": [
        "trainset = TextDataset(data_text=data_train, y=y_train)\n",
        "testset = TextDataset(data_text=data_test, y=y_test)"
      ]
    },
    {
      "cell_type": "code",
      "execution_count": null,
      "metadata": {
        "id": "Astp3CKfyg9T"
      },
      "outputs": [],
      "source": [
        "def collate_batch(batch):\n",
        "    label_list, text_list, offsets = [], [], [0]\n",
        "    for (_text, _label) in batch:\n",
        "         label_list.append(_label)\n",
        "         processed_text = torch.tensor(_text, dtype=torch.int64)\n",
        "         text_list.append(processed_text)\n",
        "         offsets.append(processed_text.size(0))\n",
        "    label_list = torch.tensor(label_list, dtype=torch.int64)\n",
        "    offsets = torch.tensor(offsets[:-1]).cumsum(dim=0)\n",
        "    text_list = torch.cat(text_list)\n",
        "    return label_list, text_list, offsets"
      ]
    },
    {
      "cell_type": "code",
      "execution_count": null,
      "metadata": {
        "id": "iQPnJtKCyxwB"
      },
      "outputs": [],
      "source": [
        "# Загрузчики в НС\n",
        "from torch.utils.data import DataLoader\n",
        "trainloader = DataLoader(trainset, batch_size=8, shuffle=False,\n",
        "                         collate_fn=collate_batch)\n",
        "\n",
        "testloader = DataLoader(testset, batch_size=8, shuffle=False,\n",
        "                        collate_fn=collate_batch)\n"
      ]
    },
    {
      "cell_type": "code",
      "execution_count": null,
      "metadata": {
        "colab": {
          "base_uri": "https://localhost:8080/"
        },
        "id": "b1vQdvM70Yi3",
        "outputId": "8901895e-f070-4509-807e-93f0d1792f00"
      },
      "outputs": [
        {
          "output_type": "stream",
          "name": "stdout",
          "text": [
            "Кол-во классов:  4\n",
            "Размер словаря:  95811\n"
          ]
        }
      ],
      "source": [
        "num_class = len(set(y_train))\n",
        "vocab_size = len(vocab)\n",
        "print(\"Кол-во классов: \", num_class)\n",
        "print(\"Размер словаря: \", vocab_size)"
      ]
    },
    {
      "cell_type": "markdown",
      "metadata": {
        "id": "C4bK6-MD0gey"
      },
      "source": [
        "\n",
        "\n",
        "\n",
        "4.    **Создание НС**\n",
        "\n"
      ]
    },
    {
      "cell_type": "code",
      "execution_count": null,
      "metadata": {
        "id": "EU5JI1cV04j1"
      },
      "outputs": [],
      "source": [
        "from torch import nn\n",
        "\n",
        "class TextClassificationModel(nn.Module):\n",
        "    def __init__(self):\n",
        "        super(TextClassificationModel, self).__init__() # вытаскивает методы из nn.Module\n",
        "        self.bag = nn.EmbeddingBag(vocab_size, 64, sparse=True)  # слой-матрица\n",
        "        # EmbeddingBag - для восприятия слов в виде двоичных векторов\n",
        "        self.lin = nn.Linear(64, 4)  # на вход подаётся 64 числа - выход от self.bag, слой выдаёт 4 числа - вероятность каждой новости, их 4 типа\n",
        "    def forward(self, text, offsets): # проход через НС\n",
        "        return self.lin( self.bag(text, offsets) )\n",
        "\n",
        "net = TextClassificationModel()\n",
        "\n",
        "import torch.optim as optim\n",
        "# В качестве loss function используем кросс-энтропию\n",
        "criterion = nn.CrossEntropyLoss()\n",
        "\n",
        "# В качестве оптимизатора - стохастический градиентный спуск\n",
        "optimizer = optim.SGD(net.parameters(), lr=0.1)"
      ]
    },
    {
      "cell_type": "markdown",
      "metadata": {
        "id": "KEQDrPgs1LNT"
      },
      "source": [
        "\n",
        "\n",
        "\n",
        "5.   **Обучение НС**\n",
        "\n"
      ]
    },
    {
      "cell_type": "code",
      "execution_count": null,
      "metadata": {
        "colab": {
          "base_uri": "https://localhost:8080/"
        },
        "id": "EsyngFfp1RzJ",
        "outputId": "469c9f37-21a1-40b6-e403-eaea1fc315ef"
      },
      "outputs": [
        {
          "output_type": "stream",
          "name": "stderr",
          "text": [
            "<ipython-input-23-c54194b7cad6>:5: UserWarning: To copy construct from a tensor, it is recommended to use sourceTensor.clone().detach() or sourceTensor.clone().detach().requires_grad_(True), rather than torch.tensor(sourceTensor).\n",
            "  processed_text = torch.tensor(_text, dtype=torch.int64)\n"
          ]
        },
        {
          "output_type": "stream",
          "name": "stdout",
          "text": [
            "[1, 10000] loss: 1.041 accuracy: 0.569\n",
            "[2, 10000] loss: 0.742 accuracy: 0.717\n",
            "[3, 10000] loss: 0.613 accuracy: 0.774\n",
            "[4, 10000] loss: 0.541 accuracy: 0.805\n",
            "[5, 10000] loss: 0.495 accuracy: 0.823\n",
            "[6, 10000] loss: 0.462 accuracy: 0.837\n",
            "[7, 10000] loss: 0.437 accuracy: 0.847\n",
            "[8, 10000] loss: 0.417 accuracy: 0.855\n",
            "[9, 10000] loss: 0.401 accuracy: 0.861\n",
            "[10, 10000] loss: 0.387 accuracy: 0.867\n",
            "[11, 10000] loss: 0.375 accuracy: 0.871\n",
            "[12, 10000] loss: 0.364 accuracy: 0.875\n",
            "[13, 10000] loss: 0.354 accuracy: 0.879\n",
            "[14, 10000] loss: 0.346 accuracy: 0.882\n",
            "[15, 10000] loss: 0.338 accuracy: 0.885\n",
            "[16, 10000] loss: 0.331 accuracy: 0.887\n",
            "[17, 10000] loss: 0.324 accuracy: 0.890\n",
            "[18, 10000] loss: 0.318 accuracy: 0.892\n",
            "[19, 10000] loss: 0.313 accuracy: 0.894\n",
            "[20, 10000] loss: 0.307 accuracy: 0.896\n",
            "[21, 10000] loss: 0.302 accuracy: 0.898\n",
            "[22, 10000] loss: 0.298 accuracy: 0.900\n",
            "[23, 10000] loss: 0.293 accuracy: 0.902\n",
            "[24, 10000] loss: 0.289 accuracy: 0.903\n",
            "[25, 10000] loss: 0.284 accuracy: 0.904\n",
            "[26, 10000] loss: 0.281 accuracy: 0.906\n",
            "[27, 10000] loss: 0.277 accuracy: 0.907\n",
            "[28, 10000] loss: 0.273 accuracy: 0.909\n",
            "[29, 10000] loss: 0.270 accuracy: 0.910\n",
            "[30, 10000] loss: 0.266 accuracy: 0.912\n",
            "[31, 10000] loss: 0.263 accuracy: 0.913\n",
            "[32, 10000] loss: 0.260 accuracy: 0.914\n",
            "[33, 10000] loss: 0.256 accuracy: 0.915\n",
            "[34, 10000] loss: 0.253 accuracy: 0.916\n",
            "[35, 10000] loss: 0.250 accuracy: 0.917\n",
            "[36, 10000] loss: 0.248 accuracy: 0.918\n",
            "[37, 10000] loss: 0.245 accuracy: 0.919\n",
            "[38, 10000] loss: 0.242 accuracy: 0.920\n",
            "[39, 10000] loss: 0.239 accuracy: 0.920\n",
            "[40, 10000] loss: 0.237 accuracy: 0.921\n",
            "[41, 10000] loss: 0.234 accuracy: 0.923\n",
            "[42, 10000] loss: 0.232 accuracy: 0.923\n",
            "[43, 10000] loss: 0.229 accuracy: 0.924\n",
            "[44, 10000] loss: 0.227 accuracy: 0.925\n",
            "[45, 10000] loss: 0.224 accuracy: 0.926\n",
            "[46, 10000] loss: 0.222 accuracy: 0.927\n",
            "[47, 10000] loss: 0.220 accuracy: 0.928\n",
            "[48, 10000] loss: 0.217 accuracy: 0.929\n",
            "[49, 10000] loss: 0.215 accuracy: 0.929\n",
            "[50, 10000] loss: 0.213 accuracy: 0.930\n",
            "[51, 10000] loss: 0.211 accuracy: 0.931\n",
            "[52, 10000] loss: 0.209 accuracy: 0.932\n",
            "[53, 10000] loss: 0.207 accuracy: 0.932\n",
            "[54, 10000] loss: 0.205 accuracy: 0.933\n",
            "[55, 10000] loss: 0.202 accuracy: 0.934\n",
            "[56, 10000] loss: 0.200 accuracy: 0.934\n",
            "[57, 10000] loss: 0.198 accuracy: 0.935\n",
            "[58, 10000] loss: 0.196 accuracy: 0.936\n",
            "[59, 10000] loss: 0.194 accuracy: 0.937\n",
            "[60, 10000] loss: 0.193 accuracy: 0.937\n",
            "[61, 10000] loss: 0.191 accuracy: 0.938\n",
            "[62, 10000] loss: 0.189 accuracy: 0.939\n",
            "[63, 10000] loss: 0.187 accuracy: 0.940\n",
            "[64, 10000] loss: 0.185 accuracy: 0.940\n",
            "[65, 10000] loss: 0.183 accuracy: 0.941\n",
            "[66, 10000] loss: 0.181 accuracy: 0.941\n",
            "[67, 10000] loss: 0.179 accuracy: 0.942\n",
            "[68, 10000] loss: 0.178 accuracy: 0.943\n",
            "[69, 10000] loss: 0.176 accuracy: 0.943\n",
            "[70, 10000] loss: 0.174 accuracy: 0.944\n",
            "Finished Training\n"
          ]
        }
      ],
      "source": [
        "losses = []\n",
        "running_corrects = 0\n",
        "net.train(True)\n",
        "for epoch in range(70):\n",
        "    running_loss = 0.0\n",
        "    running_corrects = 0.0\n",
        "    for i, data in enumerate(trainloader, 0):\n",
        "        labels, inputs, offsets = data\n",
        "\n",
        "        optimizer.zero_grad() # включаю оптимизатор\n",
        "        outputs = net(inputs, offsets) # проход данных через НС\n",
        "        _, preds = torch.max(outputs.data, 1) # поиск ответа\n",
        "        loss = criterion(outputs, labels) # считаю log loss\n",
        "        loss.backward()\n",
        "        optimizer.step() #меняю веса\n",
        "\n",
        "        running_loss += loss.item()\n",
        "        # считаю accuracy:\n",
        "        running_corrects += int(torch.sum(preds == labels.data)) / len(labels)\n",
        "        if i % 10000 == 9999:\n",
        "          print('[%d, %5d] loss: %.3f accuracy: %.3f' % (epoch + 1, i + 1, running_loss/10000, running_corrects/10000 ))\n",
        "          losses += [running_loss/10000]\n",
        "          running_loss = 0.0\n",
        "          running_corrects = 0.0\n",
        "\n",
        "print('Finished Training')"
      ]
    },
    {
      "cell_type": "code",
      "execution_count": null,
      "metadata": {
        "colab": {
          "base_uri": "https://localhost:8080/"
        },
        "id": "qMJY_ERr88PY",
        "outputId": "70c65bc9-7281-403d-fc7d-fc222ec074c8"
      },
      "outputs": [
        {
          "output_type": "execute_result",
          "data": {
            "text/plain": [
              "tensor([[-3.6765, -3.1626,  1.5211,  5.3695],\n",
              "        [ 2.0471,  7.5901, -0.4475, -9.1890],\n",
              "        [ 8.4393,  0.9437, -0.2242, -9.1695],\n",
              "        [ 9.9480, -1.2216, -0.5728, -8.0629],\n",
              "        [ 0.0120, -3.6118, -1.7225,  5.1885],\n",
              "        [ 1.1676, -1.2469,  2.9649, -2.9286],\n",
              "        [ 6.4421, -0.9761, -0.1365, -5.4864],\n",
              "        [-5.6454, -5.4070,  2.7227,  8.3574]], grad_fn=<AddmmBackward0>)"
            ]
          },
          "metadata": {},
          "execution_count": 28
        }
      ],
      "source": [
        "outputs"
      ]
    },
    {
      "cell_type": "code",
      "execution_count": null,
      "metadata": {
        "colab": {
          "base_uri": "https://localhost:8080/"
        },
        "id": "2Z3E_OyY8_6J",
        "outputId": "19dd942f-3760-4267-c1cb-aa739578b8d7"
      },
      "outputs": [
        {
          "output_type": "execute_result",
          "data": {
            "text/plain": [
              "tensor([3, 1, 0, 0, 3, 2, 0, 3])"
            ]
          },
          "metadata": {},
          "execution_count": 29
        }
      ],
      "source": [
        "preds"
      ]
    },
    {
      "cell_type": "markdown",
      "metadata": {
        "id": "-_RPTu9K9Bvx"
      },
      "source": [
        "\n",
        "\n",
        "6. **Тестирование**\n",
        "\n"
      ]
    },
    {
      "cell_type": "code",
      "execution_count": null,
      "metadata": {
        "colab": {
          "base_uri": "https://localhost:8080/"
        },
        "id": "jqyCHbti9SbL",
        "outputId": "dcfb662d-8267-46f9-f904-0692dca6fb48"
      },
      "outputs": [
        {
          "output_type": "stream",
          "name": "stderr",
          "text": [
            "<ipython-input-23-c54194b7cad6>:5: UserWarning: To copy construct from a tensor, it is recommended to use sourceTensor.clone().detach() or sourceTensor.clone().detach().requires_grad_(True), rather than torch.tensor(sourceTensor).\n",
            "  processed_text = torch.tensor(_text, dtype=torch.int64)\n"
          ]
        },
        {
          "output_type": "stream",
          "name": "stdout",
          "text": [
            "0.8874166666666666\n"
          ]
        }
      ],
      "source": [
        "net.train(False)\n",
        "runninig_correct = 0\n",
        "num_of_tests = 0\n",
        "for data in testloader:\n",
        "    labels, inputs, offsets = data\n",
        "\n",
        "    output = net(inputs, offsets)\n",
        "    _, predicted = torch.max(output, 1)\n",
        "\n",
        "    runninig_correct += int(torch.sum(predicted == labels)) / len(labels)\n",
        "    num_of_tests += 1\n",
        "\n",
        "print(runninig_correct / num_of_tests)"
      ]
    }
  ],
  "metadata": {
    "colab": {
      "provenance": [],
      "include_colab_link": true
    },
    "kernelspec": {
      "display_name": "Python 3",
      "name": "python3"
    },
    "language_info": {
      "name": "python"
    }
  },
  "nbformat": 4,
  "nbformat_minor": 0
}